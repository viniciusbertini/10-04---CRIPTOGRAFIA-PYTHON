{
  "nbformat": 4,
  "nbformat_minor": 0,
  "metadata": {
    "colab": {
      "provenance": [],
      "toc_visible": true,
      "authorship_tag": "ABX9TyP4yxA5F0aWNeqcxpO3gi9n"
    },
    "kernelspec": {
      "name": "python3",
      "display_name": "Python 3"
    },
    "language_info": {
      "name": "python"
    }
  },
  "cells": [
    {
      "cell_type": "markdown",
      "source": [
        "# AES - CRYPTOGRAPHY"
      ],
      "metadata": {
        "id": "1N_HB7p90kGB"
      }
    },
    {
      "cell_type": "code",
      "execution_count": null,
      "metadata": {
        "colab": {
          "base_uri": "https://localhost:8080/",
          "height": 35
        },
        "id": "VZ_TiLs00Atp",
        "outputId": "c93f1beb-60d4-4a1b-fa9b-82cfdd7f8e11"
      },
      "outputs": [
        {
          "output_type": "execute_result",
          "data": {
            "text/plain": [
              "'Criptografia com Chave Simétrica (AES - cryptography)'"
            ],
            "application/vnd.google.colaboratory.intrinsic+json": {
              "type": "string"
            }
          },
          "metadata": {},
          "execution_count": 1
        }
      ],
      "source": [
        "\"\"\"Criptografia com Chave Simétrica (AES - cryptography)\"\"\"\n"
      ]
    },
    {
      "cell_type": "code",
      "source": [
        "from cryptography.fernet import Fernet"
      ],
      "metadata": {
        "id": "amr-HIkj0HiD"
      },
      "execution_count": null,
      "outputs": []
    },
    {
      "cell_type": "code",
      "source": [
        "chave = Fernet.generate_key()\n",
        "fernet = Fernet(chave)"
      ],
      "metadata": {
        "id": "dwuyfCOc0MBX"
      },
      "execution_count": null,
      "outputs": []
    },
    {
      "cell_type": "code",
      "source": [
        "mensagem = \"Vinícius Batista Bertini Conceição\""
      ],
      "metadata": {
        "id": "2B3YcszP0RhA"
      },
      "execution_count": null,
      "outputs": []
    },
    {
      "cell_type": "code",
      "source": [
        "mensagem_criptografada = fernet.encrypt(mensagem.encode())\n",
        "print(\"Criptografado:\", mensagem_criptografada)"
      ],
      "metadata": {
        "colab": {
          "base_uri": "https://localhost:8080/"
        },
        "id": "yjJh4pa50ayI",
        "outputId": "5f2ae156-cc8b-487a-d2c1-ddfbb332d5b3"
      },
      "execution_count": null,
      "outputs": [
        {
          "output_type": "stream",
          "name": "stdout",
          "text": [
            "Criptografado: b'gAAAAABn9v5jmzXp87F2ZhqVumPjLUOERe8wEvlE90CpAi9bDDDTeYzMi3oHuHfYYCKjtnu2lQQmaL_KVVefXObjePX-lP38BhWLz97avCnZTcYLL0YSlyMdEKvKz9maLTeslZdqCyg6'\n"
          ]
        }
      ]
    },
    {
      "cell_type": "code",
      "source": [
        "mensagem_original = fernet.decrypt(mensagem_criptografada).decode()\n",
        "print(\"Original:\", mensagem_original)"
      ],
      "metadata": {
        "colab": {
          "base_uri": "https://localhost:8080/"
        },
        "id": "9HHQEN8X0fFf",
        "outputId": "44b2e110-2c6e-43b0-ec69-9f55465754d4"
      },
      "execution_count": null,
      "outputs": [
        {
          "output_type": "stream",
          "name": "stdout",
          "text": [
            "Original: Vinícius Batista Bertini Conceição\n"
          ]
        }
      ]
    },
    {
      "cell_type": "markdown",
      "source": [
        "# RSA - CRYPTOGRAPHY"
      ],
      "metadata": {
        "id": "b-LFkTVX1z3l"
      }
    },
    {
      "cell_type": "code",
      "source": [
        "\"\"\"Criptografia com Chave Assimétrica (RSA - cryptography)\"\"\"\n"
      ],
      "metadata": {
        "colab": {
          "base_uri": "https://localhost:8080/",
          "height": 35
        },
        "id": "7rDJESLg16Zf",
        "outputId": "7e1f836d-651a-49de-fa41-5328fe0d6155"
      },
      "execution_count": null,
      "outputs": [
        {
          "output_type": "execute_result",
          "data": {
            "text/plain": [
              "'Criptografia com Chave Assimétrica (RSA - cryptography)'"
            ],
            "application/vnd.google.colaboratory.intrinsic+json": {
              "type": "string"
            }
          },
          "metadata": {},
          "execution_count": 7
        }
      ]
    },
    {
      "cell_type": "code",
      "source": [
        "from cryptography.hazmat.primitives.asymmetric import rsa, padding\n",
        "from cryptography.hazmat.primitives import hashes, serialization"
      ],
      "metadata": {
        "id": "qmeOUly7189f"
      },
      "execution_count": null,
      "outputs": []
    },
    {
      "cell_type": "code",
      "source": [
        "chave_privada = rsa.generate_private_key(public_exponent=65537, key_size=2048)\n",
        "chave_publica = chave_privada.public_key()"
      ],
      "metadata": {
        "id": "SZFqtW-C1_jd"
      },
      "execution_count": null,
      "outputs": []
    },
    {
      "cell_type": "code",
      "source": [
        "mensagem = \"Vinícius Batista Bertini Conceição\"\n"
      ],
      "metadata": {
        "id": "l5fs1dSl2DfK"
      },
      "execution_count": null,
      "outputs": []
    },
    {
      "cell_type": "code",
      "source": [
        "mensagem_criptografada"
      ],
      "metadata": {
        "colab": {
          "base_uri": "https://localhost:8080/"
        },
        "id": "3-rXn2sv2ZAP",
        "outputId": "a2add3d6-9f3d-4e66-843a-bfa2e25c2f2e"
      },
      "execution_count": null,
      "outputs": [
        {
          "output_type": "execute_result",
          "data": {
            "text/plain": [
              "b'gAAAAABn9v5jmzXp87F2ZhqVumPjLUOERe8wEvlE90CpAi9bDDDTeYzMi3oHuHfYYCKjtnu2lQQmaL_KVVefXObjePX-lP38BhWLz97avCnZTcYLL0YSlyMdEKvKz9maLTeslZdqCyg6'"
            ]
          },
          "metadata": {},
          "execution_count": 13
        }
      ]
    },
    {
      "cell_type": "code",
      "source": [
        "  mensagem.encode('utf-8'),"
      ],
      "metadata": {
        "colab": {
          "base_uri": "https://localhost:8080/"
        },
        "id": "-pAPWWxu2ex-",
        "outputId": "205cc519-1b7b-4db8-c508-a4786ebb9301"
      },
      "execution_count": null,
      "outputs": [
        {
          "output_type": "execute_result",
          "data": {
            "text/plain": [
              "(b'Vin\\xc3\\xadcius Batista Bertini Concei\\xc3\\xa7\\xc3\\xa3o',)"
            ]
          },
          "metadata": {},
          "execution_count": 14
        }
      ]
    },
    {
      "cell_type": "code",
      "source": [
        "padding.OAEP(mgf=padding.MGF1(algorithm=hashes.SHA256()), algorithm=hashes.SHA256(), label=None)"
      ],
      "metadata": {
        "colab": {
          "base_uri": "https://localhost:8080/"
        },
        "id": "MyD34SCe2iVx",
        "outputId": "f00aa046-47fc-4043-8625-e3555458bf15"
      },
      "execution_count": null,
      "outputs": [
        {
          "output_type": "execute_result",
          "data": {
            "text/plain": [
              "<cryptography.hazmat.primitives.asymmetric.padding.OAEP at 0x7cfa516b3650>"
            ]
          },
          "metadata": {},
          "execution_count": 15
        }
      ]
    },
    {
      "cell_type": "code",
      "source": [
        "print(\"Criptografado:\", mensagem_criptografada)"
      ],
      "metadata": {
        "colab": {
          "base_uri": "https://localhost:8080/"
        },
        "id": "M0Or3sdA2mh2",
        "outputId": "c9a7fca5-f6c7-4322-e251-d2a780ed2e25"
      },
      "execution_count": null,
      "outputs": [
        {
          "output_type": "stream",
          "name": "stdout",
          "text": [
            "Criptografado: b'gAAAAABn9v5jmzXp87F2ZhqVumPjLUOERe8wEvlE90CpAi9bDDDTeYzMi3oHuHfYYCKjtnu2lQQmaL_KVVefXObjePX-lP38BhWLz97avCnZTcYLL0YSlyMdEKvKz9maLTeslZdqCyg6'\n"
          ]
        }
      ]
    },
    {
      "cell_type": "code",
      "source": [
        "mensagem_original = chave_privada.decrypt"
      ],
      "metadata": {
        "id": "c-7N4WuB2uS_"
      },
      "execution_count": null,
      "outputs": []
    },
    {
      "cell_type": "code",
      "source": [
        "mensagem_criptografada,"
      ],
      "metadata": {
        "colab": {
          "base_uri": "https://localhost:8080/"
        },
        "id": "HsCO9WiG3YF-",
        "outputId": "fa2985e4-232d-431d-e207-dc2f15ac7801"
      },
      "execution_count": null,
      "outputs": [
        {
          "output_type": "execute_result",
          "data": {
            "text/plain": [
              "(b'gAAAAABn9v5jmzXp87F2ZhqVumPjLUOERe8wEvlE90CpAi9bDDDTeYzMi3oHuHfYYCKjtnu2lQQmaL_KVVefXObjePX-lP38BhWLz97avCnZTcYLL0YSlyMdEKvKz9maLTeslZdqCyg6',)"
            ]
          },
          "metadata": {},
          "execution_count": 23
        }
      ]
    },
    {
      "cell_type": "code",
      "source": [
        " padding.OAEP(mgf=padding.MGF1(algorithm=hashes.SHA256()), algorithm=hashes.SHA256(), label=None)"
      ],
      "metadata": {
        "colab": {
          "base_uri": "https://localhost:8080/"
        },
        "id": "BaMWqm3Z3ZHn",
        "outputId": "ab1d761b-6ad1-49e2-83e5-0f234d3827ce"
      },
      "execution_count": null,
      "outputs": [
        {
          "output_type": "execute_result",
          "data": {
            "text/plain": [
              "<cryptography.hazmat.primitives.asymmetric.padding.OAEP at 0x7cfa51690250>"
            ]
          },
          "metadata": {},
          "execution_count": 24
        }
      ]
    },
    {
      "cell_type": "code",
      "source": [
        "from cryptography.hazmat.primitives.asymmetric import rsa, padding"
      ],
      "metadata": {
        "id": "NrXZqdEG3cuC"
      },
      "execution_count": null,
      "outputs": []
    }
  ]
}